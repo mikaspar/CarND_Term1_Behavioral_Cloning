{
 "cells": [
  {
   "cell_type": "code",
   "execution_count": 5,
   "metadata": {},
   "outputs": [],
   "source": [
    "import csv\n",
    "import cv2\n",
    "import os\n",
    "import numpy as np\n",
    "from matplotlib import pyplot as plt\n",
    "import matplotlib.image as mpimg\n",
    "import sklearn.utils\n",
    "\n",
    "samples = []\n",
    "\n",
    "\n",
    "with open('challenge_data/driving_log.csv') as csvfile:\n",
    "    reader = csv.reader(csvfile)\n",
    "    for line in reader:   \n",
    "        samples.append(line)\n",
    "        \n",
    "\n",
    "                     \n",
    "    \n",
    "from sklearn.model_selection import train_test_split\n",
    "train_samples, validation_samples = train_test_split(samples, test_size=0.2)\n",
    "    \n",
    "images = []\n",
    "measurements = []\n",
    "\n",
    "\n",
    "def generator(samples, batch_size):\n",
    "    \n",
    "    num_samples = len(samples)\n",
    "    while 1:\n",
    "        sklearn.utils.shuffle(samples)\n",
    "        for offset in range(0,num_samples, batch_size):\n",
    "            batch_samples = samples[offset:offset+batch_size]\n",
    "            images =[]\n",
    "            angles =[]\n",
    "        \n",
    "            for batch_sample in batch_samples:\n",
    "    # Center Camera\n",
    "                \n",
    "                filename_c = 'challenge_data/IMG/'+batch_sample[0].split('\\\\')[-1]\n",
    "                image_c = cv2.imread(filename_c)\n",
    "                image_center = cv2.cvtColor(image_c, cv2.COLOR_BGR2RGB)\n",
    "                image_flipped = np.fliplr(image_center)\n",
    "                images.append(image_center)\n",
    "                images.append(image_flipped)\n",
    "    \n",
    "                measurement_center = np.float64(batch_sample[3])\n",
    "                measurement_center_flipped = -np.copy(measurement_center)\n",
    "                angles.append(measurement_center)\n",
    "                angles.append(measurement_center_flipped)\n",
    "    \n",
    "    # Correction\n",
    "    \n",
    "                correction = 0.09\n",
    "\n",
    "    #Left Camera\n",
    "    \n",
    "                filename_l = 'challenge_data/IMG/'+batch_sample[1].split('\\\\')[-1]\n",
    "                image_l = cv2.imread(filename_l)\n",
    "                image_left = cv2.cvtColor(image_l, cv2.COLOR_BGR2RGB)\n",
    "                images.append(image_left)\n",
    "    \n",
    "                measurement_left = np.float64(batch_sample[3]) + correction\n",
    "                angles.append(measurement_left)\n",
    "    \n",
    "    #Right Camera\n",
    "    \n",
    "                filename_r = 'challenge_data/IMG/'+batch_sample[2].split('\\\\')[-1]\n",
    "                image_r = cv2.imread(filename_r)\n",
    "                image_right = cv2.cvtColor(image_r, cv2.COLOR_BGR2RGB)\n",
    "                images.append(image_right)\n",
    "    \n",
    "                measurement_right = np.float64(batch_sample[3]) - correction\n",
    "                angles.append(measurement_right)\n",
    "    \n",
    "            X_train = np.array(images)\n",
    "            y_train = np.array(angles)\n",
    "            yield sklearn.utils.shuffle (X_train, y_train)\n",
    "                "
   ]
  },
  {
   "cell_type": "code",
   "execution_count": 6,
   "metadata": {},
   "outputs": [],
   "source": [
    "train_generator = generator(train_samples, batch_size=10)\n",
    "validation_generator = generator(validation_samples, batch_size=10)"
   ]
  },
  {
   "cell_type": "code",
   "execution_count": 7,
   "metadata": {},
   "outputs": [
    {
     "name": "stdout",
     "output_type": "stream",
     "text": [
      "6419\n",
      "1605\n"
     ]
    }
   ],
   "source": [
    "print(len(train_samples))\n",
    "print(len(validation_samples))"
   ]
  },
  {
   "cell_type": "code",
   "execution_count": 8,
   "metadata": {},
   "outputs": [
    {
     "name": "stdout",
     "output_type": "stream",
     "text": [
      "Epoch 1/5\n",
      "6440/6419 [==============================] - 17s - loss: 0.1463 - val_loss: 0.1219\n",
      "Epoch 2/5\n",
      "6440/6419 [==============================] - 17s - loss: 0.1104 - val_loss: 0.1105\n",
      "Epoch 3/5\n",
      "6440/6419 [==============================] - 17s - loss: 0.0996 - val_loss: 0.0895\n",
      "Epoch 4/5\n",
      "6436/6419 [==============================] - 17s - loss: 0.0932 - val_loss: 0.0973\n",
      "Epoch 5/5\n",
      "6440/6419 [==============================] - 17s - loss: 0.0929 - val_loss: 0.0907\n"
     ]
    }
   ],
   "source": [
    "from keras.models import Sequential\n",
    "from keras.layers import Flatten, Dense, Activation, Lambda, Dropout, Convolution2D, MaxPooling2D, Cropping2D\n",
    "\n",
    "import warnings\n",
    "warnings.filterwarnings('ignore')\n",
    "\n",
    "model = Sequential()\n",
    "model.add(Lambda(lambda x: x / 255.0 - 0.5, input_shape=(160,320,3)))\n",
    "model.add(Cropping2D(cropping=((70,25),(0,0))))\n",
    "\n",
    "model.add(Convolution2D(24,5,5,subsample=(2,2), activation=\"relu\")) \n",
    "model.add(Dropout(0.2))\n",
    "model.add(Convolution2D(36,5,5,subsample=(2,2), activation=\"relu\"))\n",
    "model.add(Dropout(0.2))\n",
    "model.add(Convolution2D(48,5,5,subsample=(2,2), activation=\"relu\")) \n",
    "model.add(Dropout(0.2))\n",
    "\n",
    "model.add(Convolution2D(64,3,3, activation=\"relu\"))\n",
    "model.add(Dropout(0.2))\n",
    "model.add(Convolution2D(64,3,3, activation=\"relu\"))\n",
    "model.add(Dropout(0.2))\n",
    "\n",
    "\n",
    "model.add(Flatten())\n",
    "model.add(Dense(100))\n",
    "model.add(Dense(50))\n",
    "model.add(Dense(10))\n",
    "model.add(Dense(1))\n",
    "\n",
    "model.compile(loss='mse', optimizer='adam')\n",
    "\n",
    "#model.fit(X_train,y_train,validation_split=0.2, shuffle=True, nb_epoch=5)\n",
    "\n",
    "model.fit_generator(train_generator, samples_per_epoch= len(train_samples),validation_data=validation_generator,nb_val_samples=len(validation_samples), nb_epoch=5)\n",
    "\n",
    "\n",
    "model.save('model_challenge.h5')\n",
    "\n",
    "\n",
    "\n",
    "\n"
   ]
  },
  {
   "cell_type": "code",
   "execution_count": null,
   "metadata": {
    "collapsed": true
   },
   "outputs": [],
   "source": []
  },
  {
   "cell_type": "code",
   "execution_count": null,
   "metadata": {
    "collapsed": true
   },
   "outputs": [],
   "source": []
  }
 ],
 "metadata": {
  "kernelspec": {
   "display_name": "Python 3",
   "language": "python",
   "name": "python3"
  },
  "language_info": {
   "codemirror_mode": {
    "name": "ipython",
    "version": 3
   },
   "file_extension": ".py",
   "mimetype": "text/x-python",
   "name": "python",
   "nbconvert_exporter": "python",
   "pygments_lexer": "ipython3",
   "version": "3.5.2"
  },
  "widgets": {
   "state": {},
   "version": "1.1.2"
  }
 },
 "nbformat": 4,
 "nbformat_minor": 2
}
